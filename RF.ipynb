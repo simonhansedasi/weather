{
 "cells": [
  {
   "cell_type": "code",
   "execution_count": 1,
   "id": "765e930d-448b-451e-b5aa-0131e544fe91",
   "metadata": {},
   "outputs": [],
   "source": [
    "import weather as we\n",
    "import json\n",
    "\n",
    "import numpy as np\n",
    "import matplotlib.pyplot as plt\n",
    "from sklearn.ensemble import RandomForestRegressor\n",
    "from sklearn.metrics import mean_squared_error, mean_absolute_error, r2_score\n",
    "from sklearn.preprocessing import StandardScaler\n",
    "from sklearn.preprocessing import RobustScaler"
   ]
  },
  {
   "cell_type": "code",
   "execution_count": 2,
   "id": "fa376c5c-ffa4-4a22-9280-8658299faba3",
   "metadata": {
    "tags": []
   },
   "outputs": [],
   "source": [
    "with open('data/data.json', 'r') as json_file:\n",
    "    data = json.load(json_file)"
   ]
  },
  {
   "cell_type": "code",
   "execution_count": 3,
   "id": "cab4c942-1829-451a-88f6-0ee44e68ce36",
   "metadata": {
    "tags": []
   },
   "outputs": [
    {
     "name": "stdout",
     "output_type": "stream",
     "text": [
      "Number of windows created: 16718\n"
     ]
    }
   ],
   "source": [
    "windows = we.create_data_windows(data, hours = 24)"
   ]
  },
  {
   "cell_type": "code",
   "execution_count": 4,
   "id": "1b07110d-90b4-473f-8850-84a8a8646d29",
   "metadata": {
    "tags": []
   },
   "outputs": [],
   "source": [
    "feats = [\n",
    "    'dt','temp_min','temp','temp_max','dew_point','pressure',\n",
    "    'humidity','wind_speed','wind_deg','wind_gust','clouds_all',\n",
    "    'rain_1h','rain_3h','snow_1h','snow_3h'\n",
    "]\n",
    "data_array = np.array([\n",
    "    [\n",
    "        entry[feats[0]],  # Timestamp\n",
    "        entry[feats[1]],  # Min Temperature\n",
    "        entry[feats[2]],  # Temperature\n",
    "        entry[feats[3]],  # Max Temperature\n",
    "        entry[feats[4]],  # Dew point\n",
    "        entry[feats[5]],  # Pressure\n",
    "        entry[feats[6]],  # Humidity\n",
    "        entry[feats[7]],  # Wind speed\n",
    "        entry[feats[8]],  # Wind degree\n",
    "        entry[feats[9]],  # Wind gust\n",
    "        entry[feats[10]],  # Clouds\n",
    "        entry[feats[11]],  # rain 1h\n",
    "        entry[feats[12]],  # rain 3h\n",
    "        entry[feats[13]],  # snow 1h\n",
    "        entry[feats[14]],  # snow 3h\n",
    "        \n",
    "    ] for entry in windows.values()\n",
    "], dtype=object)"
   ]
  },
  {
   "cell_type": "code",
   "execution_count": 5,
   "id": "01480112-1914-4ac9-817a-0bc888480401",
   "metadata": {
    "tags": []
   },
   "outputs": [
    {
     "data": {
      "text/plain": [
       "(16718, 15, 24)"
      ]
     },
     "execution_count": 5,
     "metadata": {},
     "output_type": "execute_result"
    }
   ],
   "source": [
    "data_array.shape"
   ]
  },
  {
   "cell_type": "code",
   "execution_count": 6,
   "id": "97cefccc-01f8-4ca4-980e-f70e324e028f",
   "metadata": {
    "tags": []
   },
   "outputs": [
    {
     "name": "stdout",
     "output_type": "stream",
     "text": [
      "New shape of X: (16718, 24, 11)\n",
      "Shape of Y: (16718, 24)\n"
     ]
    }
   ],
   "source": [
    "num_samples = data_array.shape[0]  \n",
    "num_timesteps = data_array.shape[2]\n",
    "num_features = data_array.shape[1] - 4\n",
    "\n",
    "X = data_array[:, :num_features, :]  \n",
    "Y = data_array[:, num_features, :]     \n",
    "Y = np.nan_to_num(Y, nan = 0.0)\n",
    "\n",
    "X_reshaped = X.reshape(num_samples, num_timesteps, num_features)\n",
    "\n",
    "# Print the new shape to verify\n",
    "print(\"New shape of X:\", X_reshaped.shape)  # Should be (557, 720, 8)\n",
    "print(\"Shape of Y:\", Y.shape)  # Should be (557, 720)"
   ]
  },
  {
   "cell_type": "code",
   "execution_count": 7,
   "id": "b676c164-a8b6-49b8-9a85-3c4f91191571",
   "metadata": {
    "tags": []
   },
   "outputs": [],
   "source": [
    "X_tr, X_te, Y_tr, Y_te = we.split_data(X_reshaped, Y, frac = 0.2)"
   ]
  },
  {
   "cell_type": "code",
   "execution_count": 8,
   "id": "f57467b8-c39b-4aed-89ed-c0a7fe834805",
   "metadata": {
    "tags": []
   },
   "outputs": [],
   "source": [
    "# from sklearn.preprocessing import MinMaxScaler\n",
    "\n",
    "# X_train shape: (n_samples, sequence_length, n_features)\n",
    "n_samples_r, seq_length_r, n_features_r = X_tr.shape\n",
    "n_samples_e, seq_length_e, n_features_e = X_te.shape\n",
    "\n",
    "# # Reshape X_train to 2D: (n_samples * sequence_length, n_features)\n",
    "X_train_reshaped = X_tr.reshape(-1, n_features_r)\n",
    "X_test_reshaped = X_te.reshape(-1, n_features_e)\n",
    "\n",
    "\n",
    "scaler = RobustScaler()  \n",
    "X_train_scaled = scaler.fit_transform(X_train_reshaped).reshape(n_samples_r, seq_length_r, n_features_r)\n",
    "X_test_scaled = scaler.transform(X_test_reshaped).reshape(n_samples_e, seq_length_e, n_features_e)\n",
    "\n",
    "Y_train_scaled = scaler.fit_transform(Y_tr)\n",
    "Y_test_scaled = scaler.transform(Y_te)"
   ]
  },
  {
   "cell_type": "code",
   "execution_count": 9,
   "id": "d7552406-5aee-49e2-92f8-a83f9e207b52",
   "metadata": {
    "tags": []
   },
   "outputs": [],
   "source": [
    "X_train_scaled[np.isnan(X_train_scaled)] = 0.0\n",
    "X_test_scaled[np.isnan(X_test_scaled)] = 0.0\n",
    "\n",
    "Y_train_scaled[np.isnan(Y_train_scaled)] = 0.0\n",
    "Y_test_scaled[np.isnan(Y_test_scaled)] = 0.0\n",
    "\n",
    "\n",
    "n_samples, n_time_steps, n_features = X_train_scaled.shape\n",
    "# X_train_scaled_reshaped = X_train_scaled.reshape(-1, n_features)\n",
    "# X_test_scaled_reshaped = X_test_scaled.reshape(-1, n_features)"
   ]
  },
  {
   "cell_type": "code",
   "execution_count": 10,
   "id": "63ecdc28-4efe-4812-aa29-78c8e3ec8184",
   "metadata": {
    "tags": []
   },
   "outputs": [],
   "source": [
    "n_samples, time_steps, n_features = X_train_scaled.shape\n",
    "X_train_scaled_reshaped = X_train_scaled.reshape(n_samples, time_steps * n_features)\n",
    "\n",
    "\n",
    "n_samples, time_steps, n_features = X_test_scaled.shape\n",
    "X_test_scaled_reshaped = X_test_scaled.reshape(n_samples, time_steps * n_features)\n"
   ]
  },
  {
   "cell_type": "code",
   "execution_count": 11,
   "id": "1c131489-2f10-4892-97f0-08db9176c3c3",
   "metadata": {
    "tags": []
   },
   "outputs": [],
   "source": [
    "model = RandomForestRegressor(n_estimators=100, random_state=42)"
   ]
  },
  {
   "cell_type": "code",
   "execution_count": 12,
   "id": "d262edc4-8bcd-4d71-947b-59198318a116",
   "metadata": {
    "tags": []
   },
   "outputs": [
    {
     "data": {
      "text/plain": [
       "RandomForestRegressor(random_state=42)"
      ]
     },
     "execution_count": 12,
     "metadata": {},
     "output_type": "execute_result"
    }
   ],
   "source": [
    "model.fit(X_train_scaled_reshaped, Y_train_scaled)"
   ]
  },
  {
   "cell_type": "code",
   "execution_count": 13,
   "id": "daa3661d-677d-4dc9-9809-7b2df680c019",
   "metadata": {},
   "outputs": [],
   "source": [
    "Y_pred = model.predict(X_test_scaled_reshaped)"
   ]
  },
  {
   "cell_type": "code",
   "execution_count": 14,
   "id": "51388c59-1099-4cee-9d35-007b0a4fcf6c",
   "metadata": {},
   "outputs": [
    {
     "ename": "NameError",
     "evalue": "name 'Y_test' is not defined",
     "output_type": "error",
     "traceback": [
      "\u001b[0;31m---------------------------------------------------------------------------\u001b[0m",
      "\u001b[0;31mNameError\u001b[0m                                 Traceback (most recent call last)",
      "\u001b[0;32m/tmp/ipykernel_264482/2349645993.py\u001b[0m in \u001b[0;36m<module>\u001b[0;34m\u001b[0m\n\u001b[1;32m      1\u001b[0m \u001b[0mmse\u001b[0m \u001b[0;34m=\u001b[0m \u001b[0mmean_squared_error\u001b[0m\u001b[0;34m(\u001b[0m\u001b[0mY_test_scaled\u001b[0m\u001b[0;34m,\u001b[0m \u001b[0mY_pred\u001b[0m\u001b[0;34m)\u001b[0m\u001b[0;34m\u001b[0m\u001b[0;34m\u001b[0m\u001b[0m\n\u001b[1;32m      2\u001b[0m \u001b[0mmae\u001b[0m \u001b[0;34m=\u001b[0m \u001b[0mmean_absolute_error\u001b[0m\u001b[0;34m(\u001b[0m\u001b[0mY_test_scaled\u001b[0m\u001b[0;34m,\u001b[0m \u001b[0mY_pred\u001b[0m\u001b[0;34m)\u001b[0m\u001b[0;34m\u001b[0m\u001b[0;34m\u001b[0m\u001b[0m\n\u001b[0;32m----> 3\u001b[0;31m \u001b[0mr2\u001b[0m \u001b[0;34m=\u001b[0m \u001b[0mr2_score\u001b[0m\u001b[0;34m(\u001b[0m\u001b[0mY_test\u001b[0m\u001b[0;34m,\u001b[0m \u001b[0mY_pred\u001b[0m\u001b[0;34m)\u001b[0m\u001b[0;34m\u001b[0m\u001b[0;34m\u001b[0m\u001b[0m\n\u001b[0m",
      "\u001b[0;31mNameError\u001b[0m: name 'Y_test' is not defined"
     ]
    }
   ],
   "source": [
    "mse = mean_squared_error(Y_test_scaled, Y_pred)\n",
    "mae = mean_absolute_error(Y_test_scaled, Y_pred)\n",
    "r2 = r2_score(Y_test, Y_pred)"
   ]
  },
  {
   "cell_type": "code",
   "execution_count": null,
   "id": "fe01ac21-885a-4c59-b8a6-b54598d60fe5",
   "metadata": {
    "tags": []
   },
   "outputs": [],
   "source": [
    "print(mse)\n",
    "print(mae)\n",
    "print(r2)"
   ]
  },
  {
   "cell_type": "code",
   "execution_count": null,
   "id": "b486804a-8332-4fab-90b5-f7c14a9e09ef",
   "metadata": {
    "tags": []
   },
   "outputs": [],
   "source": [
    "plt.scatter(Y_test_scaled, Y_pred)"
   ]
  }
 ],
 "metadata": {
  "kernelspec": {
   "display_name": "Python 3 (ipykernel)",
   "language": "python",
   "name": "python3"
  },
  "language_info": {
   "codemirror_mode": {
    "name": "ipython",
    "version": 3
   },
   "file_extension": ".py",
   "mimetype": "text/x-python",
   "name": "python",
   "nbconvert_exporter": "python",
   "pygments_lexer": "ipython3",
   "version": "3.7.6"
  }
 },
 "nbformat": 4,
 "nbformat_minor": 5
}
