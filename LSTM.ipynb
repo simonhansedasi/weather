{
 "cells": [
  {
   "cell_type": "code",
   "execution_count": 1,
   "id": "765e930d-448b-451e-b5aa-0131e544fe91",
   "metadata": {},
   "outputs": [
    {
     "name": "stderr",
     "output_type": "stream",
     "text": [
      "2024-10-19 17:55:54.510569: I tensorflow/core/platform/cpu_feature_guard.cc:193] This TensorFlow binary is optimized with oneAPI Deep Neural Network Library (oneDNN) to use the following CPU instructions in performance-critical operations:  AVX2 FMA\n",
      "To enable them in other operations, rebuild TensorFlow with the appropriate compiler flags.\n",
      "2024-10-19 17:55:54.674002: W tensorflow/compiler/xla/stream_executor/platform/default/dso_loader.cc:64] Could not load dynamic library 'libcudart.so.11.0'; dlerror: libcudart.so.11.0: cannot open shared object file: No such file or directory\n",
      "2024-10-19 17:55:54.674023: I tensorflow/compiler/xla/stream_executor/cuda/cudart_stub.cc:29] Ignore above cudart dlerror if you do not have a GPU set up on your machine.\n",
      "2024-10-19 17:55:55.574959: W tensorflow/compiler/xla/stream_executor/platform/default/dso_loader.cc:64] Could not load dynamic library 'libnvinfer.so.7'; dlerror: libnvinfer.so.7: cannot open shared object file: No such file or directory\n",
      "2024-10-19 17:55:55.575043: W tensorflow/compiler/xla/stream_executor/platform/default/dso_loader.cc:64] Could not load dynamic library 'libnvinfer_plugin.so.7'; dlerror: libnvinfer_plugin.so.7: cannot open shared object file: No such file or directory\n",
      "2024-10-19 17:55:55.575052: W tensorflow/compiler/tf2tensorrt/utils/py_utils.cc:38] TF-TRT Warning: Cannot dlopen some TensorRT libraries. If you would like to use Nvidia GPU with TensorRT, please make sure the missing libraries mentioned above are installed properly.\n"
     ]
    }
   ],
   "source": [
    "import weather as we\n",
    "import json\n",
    "\n",
    "import numpy as np\n",
    "import matplotlib.pyplot as plt\n",
    "import tensorflow as tf\n",
    "from tensorflow.keras.models import Sequential\n",
    "from tensorflow.keras.regularizers import l2\n",
    "from tensorflow.keras.layers import LSTM, Dense, Dropout, LeakyReLU, Masking\n",
    "from tensorflow.keras.optimizers import Adam\n",
    "from tensorflow.keras.callbacks import EarlyStopping\n",
    "from tensorflow.keras import regularizers\n",
    "from sklearn.preprocessing import StandardScaler"
   ]
  },
  {
   "cell_type": "code",
   "execution_count": 2,
   "id": "fa376c5c-ffa4-4a22-9280-8658299faba3",
   "metadata": {
    "tags": []
   },
   "outputs": [],
   "source": [
    "with open('data/data.json', 'r') as json_file:\n",
    "    data = json.load(json_file)"
   ]
  },
  {
   "cell_type": "code",
   "execution_count": 3,
   "id": "cab4c942-1829-451a-88f6-0ee44e68ce36",
   "metadata": {
    "tags": []
   },
   "outputs": [
    {
     "name": "stdout",
     "output_type": "stream",
     "text": [
      "Number of windows created: 16718\n"
     ]
    }
   ],
   "source": [
    "windows = we.create_data_windows(data, hours = 36)"
   ]
  },
  {
   "cell_type": "code",
   "execution_count": 4,
   "id": "1b07110d-90b4-473f-8850-84a8a8646d29",
   "metadata": {
    "tags": []
   },
   "outputs": [],
   "source": [
    "feats = [\n",
    "    'dt','temp_min','temp','temp_max','dew_point','pressure',\n",
    "    'humidity','wind_speed','wind_deg','wind_gust','clouds_all',\n",
    "    'rain_1h','rain_3h','snow_1h','snow_3h'\n",
    "]\n",
    "data_array = np.array([\n",
    "    [\n",
    "        entry[feats[0]],  # Timestamp\n",
    "        entry[feats[1]],  # Min Temperature\n",
    "        entry[feats[2]],  # Temperature\n",
    "        entry[feats[3]],  # Max Temperature\n",
    "        entry[feats[4]],  # Dew point\n",
    "        entry[feats[5]],  # Pressure\n",
    "        entry[feats[6]],  # Humidity\n",
    "        entry[feats[7]],  # Wind speed\n",
    "        entry[feats[8]],  # Wind degree\n",
    "        entry[feats[9]],  # Wind gust\n",
    "        entry[feats[10]],  # Clouds\n",
    "        entry[feats[11]],  # rain 1h\n",
    "        entry[feats[12]],  # rain 3h\n",
    "        entry[feats[13]],  # snow 1h\n",
    "        entry[feats[14]],  # snow 3h\n",
    "        \n",
    "    ] for entry in windows.values()\n",
    "], dtype=object)"
   ]
  },
  {
   "cell_type": "code",
   "execution_count": 5,
   "id": "01480112-1914-4ac9-817a-0bc888480401",
   "metadata": {
    "tags": []
   },
   "outputs": [
    {
     "data": {
      "text/plain": [
       "(16718, 15, 24)"
      ]
     },
     "execution_count": 5,
     "metadata": {},
     "output_type": "execute_result"
    }
   ],
   "source": [
    "data_array.shape"
   ]
  },
  {
   "cell_type": "code",
   "execution_count": 6,
   "id": "97cefccc-01f8-4ca4-980e-f70e324e028f",
   "metadata": {
    "tags": []
   },
   "outputs": [
    {
     "name": "stdout",
     "output_type": "stream",
     "text": [
      "New shape of X: (16718, 24, 11)\n",
      "Shape of Y: (16718, 24)\n"
     ]
    }
   ],
   "source": [
    "num_samples = data_array.shape[0]  \n",
    "num_timesteps = data_array.shape[2]\n",
    "num_features = data_array.shape[1] - 4\n",
    "\n",
    "X = data_array[:, :num_features, :]  \n",
    "Y = data_array[:, num_features, :]     \n",
    "Y = np.nan_to_num(Y, nan = 0.0)\n",
    "\n",
    "X_reshaped = X.reshape(num_samples, num_timesteps, num_features)\n",
    "\n",
    "# Print the new shape to verify\n",
    "print(\"New shape of X:\", X_reshaped.shape)  # Should be (557, 720, 8)\n",
    "print(\"Shape of Y:\", Y.shape)  # Should be (557, 720)"
   ]
  },
  {
   "cell_type": "code",
   "execution_count": 7,
   "id": "b676c164-a8b6-49b8-9a85-3c4f91191571",
   "metadata": {
    "tags": []
   },
   "outputs": [],
   "source": [
    "X_tr, X_te, Y_tr, Y_te = we.split_data(X_reshaped, Y, frac = 0.2)"
   ]
  },
  {
   "cell_type": "code",
   "execution_count": 8,
   "id": "f57467b8-c39b-4aed-89ed-c0a7fe834805",
   "metadata": {
    "tags": []
   },
   "outputs": [],
   "source": [
    "# from sklearn.preprocessing import MinMaxScaler\n",
    "\n",
    "# X_train shape: (n_samples, sequence_length, n_features)\n",
    "n_samples_r, seq_length_r, n_features_r = X_tr.shape\n",
    "n_samples_e, seq_length_e, n_features_e = X_te.shape\n",
    "\n",
    "# # Reshape X_train to 2D: (n_samples * sequence_length, n_features)\n",
    "X_train_reshaped = X_tr.reshape(-1, n_features_r)\n",
    "X_test_reshaped = X_te.reshape(-1, n_features_e)\n",
    "\n",
    "# # Scale the features\n",
    "# x_scaler = MinMaxScaler()\n",
    "# X_train_scaled = x_scaler.fit_transform(X_train_reshaped)\n",
    "# X_test_scaled = x_scaler.transform(X_test_reshaped)\n",
    "\n",
    "# # Reshape back to 3D\n",
    "# X_train_scaled = X_train_scaled.reshape(n_samples_r, seq_length_r, n_features_r)\n",
    "# X_test_scaled = X_test_scaled.reshape(n_samples_e, seq_length_e, n_features_e)\n",
    "\n",
    "\n",
    "from sklearn.preprocessing import RobustScaler\n",
    "\n",
    "scaler = RobustScaler()  \n",
    "X_train_scaled = scaler.fit_transform(X_train_reshaped).reshape(n_samples_r, seq_length_r, n_features_r)\n",
    "X_test_scaled = scaler.transform(X_test_reshaped).reshape(n_samples_e, seq_length_e, n_features_e)\n",
    "\n",
    "Y_train_scaled = scaler.fit_transform(Y_tr)\n",
    "Y_test_scaled = scaler.transform(Y_te)"
   ]
  },
  {
   "cell_type": "code",
   "execution_count": 9,
   "id": "089280df-1ef5-44f6-add0-1ed66ae66de3",
   "metadata": {},
   "outputs": [],
   "source": [
    "early_stopping = EarlyStopping(monitor='val_loss', patience=10, restore_best_weights=True)"
   ]
  },
  {
   "cell_type": "code",
   "execution_count": 10,
   "id": "9f5cf5dc-7f2d-49a6-9d21-7d38792d41f0",
   "metadata": {
    "tags": []
   },
   "outputs": [],
   "source": [
    "def masked_mse_ignore_nans(y_true, y_pred):\n",
    "    # Create a mask to ignore NaN values in y_true\n",
    "    mask = tf.math.logical_not(tf.math.is_nan(y_true))\n",
    "    \n",
    "    # Replace NaNs with zeros in y_true (so TensorFlow can handle the operation)\n",
    "    y_true_clean = tf.where(mask, y_true, tf.zeros_like(y_true))\n",
    "    \n",
    "    # Compute the squared difference between the valid labels and predictions\n",
    "    squared_diff = tf.square(y_true_clean - y_pred)\n",
    "    \n",
    "    # Apply the mask to filter out NaN values in the loss computation\n",
    "    masked_squared_diff = tf.where(mask, squared_diff, tf.zeros_like(squared_diff))\n",
    "    \n",
    "    # Calculate the mean loss only over the valid (non-NaN) values\n",
    "    masked_loss = tf.reduce_sum(masked_squared_diff) / tf.reduce_sum(tf.cast(mask, tf.float32))\n",
    "    \n",
    "    return masked_loss\n"
   ]
  },
  {
   "cell_type": "code",
   "execution_count": 11,
   "id": "d7552406-5aee-49e2-92f8-a83f9e207b52",
   "metadata": {
    "tags": []
   },
   "outputs": [],
   "source": [
    "X_train_scaled[np.isnan(X_train_scaled)] = 0.0\n",
    "X_test_scaled[np.isnan(X_test_scaled)] = 0.0\n",
    "\n",
    "Y_train_scaled[np.isnan(Y_train_scaled)] = 0.0\n",
    "Y_test_scaled[np.isnan(Y_test_scaled)] = 0.0\n"
   ]
  },
  {
   "cell_type": "code",
   "execution_count": 12,
   "id": "ae3cc53e-7049-4c1f-bee1-6c27c534b91d",
   "metadata": {
    "tags": []
   },
   "outputs": [
    {
     "name": "stderr",
     "output_type": "stream",
     "text": [
      "2024-10-19 17:56:00.153713: W tensorflow/compiler/xla/stream_executor/platform/default/dso_loader.cc:64] Could not load dynamic library 'libcuda.so.1'; dlerror: libcuda.so.1: cannot open shared object file: No such file or directory\n",
      "2024-10-19 17:56:00.153738: W tensorflow/compiler/xla/stream_executor/cuda/cuda_driver.cc:265] failed call to cuInit: UNKNOWN ERROR (303)\n",
      "2024-10-19 17:56:00.153763: I tensorflow/compiler/xla/stream_executor/cuda/cuda_diagnostics.cc:156] kernel driver does not appear to be running on this host (sbook): /proc/driver/nvidia/version does not exist\n",
      "2024-10-19 17:56:00.154059: I tensorflow/core/platform/cpu_feature_guard.cc:193] This TensorFlow binary is optimized with oneAPI Deep Neural Network Library (oneDNN) to use the following CPU instructions in performance-critical operations:  AVX2 FMA\n",
      "To enable them in other operations, rebuild TensorFlow with the appropriate compiler flags.\n"
     ]
    }
   ],
   "source": [
    "model = Sequential()\n",
    "model.add(Masking(mask_value=0.0, input_shape=(np.shape(X_train_scaled)[1], np.shape(X_train_scaled)[2])))  \n",
    "model.add(LSTM(100, activation='tanh', return_sequences=True))\n",
    "model.add(Dropout(0.35))  \n",
    "model.add(LSTM(75, activation='tanh', return_sequences = False))\n",
    "model.add(Dense(10))  \n",
    "model.add(LeakyReLU(alpha=0.01))  \n",
    "model.add(Dense(Y_test_scaled.shape[1]))  \n",
    "model.compile(\n",
    "    optimizer=tf.keras.optimizers.Adam(learning_rate=0.001), \n",
    "    loss='mean_squared_error'\n",
    ")\n"
   ]
  },
  {
   "cell_type": "code",
   "execution_count": 13,
   "id": "b7d691a0-4325-4f27-bc39-723086d10941",
   "metadata": {
    "tags": []
   },
   "outputs": [
    {
     "name": "stdout",
     "output_type": "stream",
     "text": [
      "Epoch 1/100\n",
      "105/105 - 18s - loss: 0.3363 - val_loss: 1.4585 - 18s/epoch - 176ms/step\n",
      "Epoch 2/100\n",
      "105/105 - 8s - loss: 0.3271 - val_loss: 1.4575 - 8s/epoch - 76ms/step\n",
      "Epoch 3/100\n",
      "105/105 - 8s - loss: 0.3206 - val_loss: 1.4536 - 8s/epoch - 76ms/step\n",
      "Epoch 4/100\n",
      "105/105 - 8s - loss: 0.3140 - val_loss: 1.4499 - 8s/epoch - 76ms/step\n",
      "Epoch 5/100\n",
      "105/105 - 8s - loss: 0.3126 - val_loss: 1.4552 - 8s/epoch - 76ms/step\n",
      "Epoch 6/100\n",
      "105/105 - 8s - loss: 0.3125 - val_loss: 1.4483 - 8s/epoch - 76ms/step\n",
      "Epoch 7/100\n",
      "105/105 - 8s - loss: 0.3097 - val_loss: 1.4496 - 8s/epoch - 76ms/step\n",
      "Epoch 8/100\n",
      "105/105 - 8s - loss: 0.3040 - val_loss: 1.4568 - 8s/epoch - 76ms/step\n",
      "Epoch 9/100\n",
      "105/105 - 8s - loss: 0.3001 - val_loss: 1.4477 - 8s/epoch - 77ms/step\n",
      "Epoch 10/100\n",
      "105/105 - 8s - loss: 0.2980 - val_loss: 1.4538 - 8s/epoch - 77ms/step\n",
      "Epoch 11/100\n",
      "105/105 - 8s - loss: 0.2926 - val_loss: 1.4478 - 8s/epoch - 76ms/step\n",
      "Epoch 12/100\n",
      "105/105 - 8s - loss: 0.2924 - val_loss: 1.4479 - 8s/epoch - 76ms/step\n",
      "Epoch 13/100\n",
      "105/105 - 8s - loss: 0.2882 - val_loss: 1.4459 - 8s/epoch - 77ms/step\n",
      "Epoch 14/100\n",
      "105/105 - 8s - loss: 0.2912 - val_loss: 1.4503 - 8s/epoch - 77ms/step\n",
      "Epoch 15/100\n",
      "105/105 - 8s - loss: 0.2802 - val_loss: 1.4485 - 8s/epoch - 76ms/step\n",
      "Epoch 16/100\n",
      "105/105 - 8s - loss: 0.2858 - val_loss: 1.4413 - 8s/epoch - 79ms/step\n",
      "Epoch 17/100\n",
      "105/105 - 8s - loss: 0.2815 - val_loss: 1.4402 - 8s/epoch - 77ms/step\n",
      "Epoch 18/100\n",
      "105/105 - 8s - loss: 0.2820 - val_loss: 1.4361 - 8s/epoch - 76ms/step\n",
      "Epoch 19/100\n",
      "105/105 - 8s - loss: 0.2808 - val_loss: 1.4444 - 8s/epoch - 77ms/step\n",
      "Epoch 20/100\n",
      "105/105 - 8s - loss: 0.2849 - val_loss: 1.4364 - 8s/epoch - 76ms/step\n",
      "Epoch 21/100\n",
      "105/105 - 8s - loss: 0.2755 - val_loss: 1.4390 - 8s/epoch - 77ms/step\n",
      "Epoch 22/100\n",
      "105/105 - 8s - loss: 0.2748 - val_loss: 1.4447 - 8s/epoch - 77ms/step\n",
      "Epoch 23/100\n",
      "105/105 - 8s - loss: 0.2749 - val_loss: 1.4297 - 8s/epoch - 76ms/step\n",
      "Epoch 24/100\n",
      "105/105 - 8s - loss: 0.2729 - val_loss: 1.4352 - 8s/epoch - 78ms/step\n",
      "Epoch 25/100\n",
      "105/105 - 8s - loss: 0.2705 - val_loss: 1.4293 - 8s/epoch - 77ms/step\n",
      "Epoch 26/100\n",
      "105/105 - 8s - loss: 0.2730 - val_loss: 1.4346 - 8s/epoch - 76ms/step\n",
      "Epoch 27/100\n",
      "105/105 - 8s - loss: 0.2696 - val_loss: 1.4356 - 8s/epoch - 77ms/step\n",
      "Epoch 28/100\n",
      "105/105 - 8s - loss: 0.2724 - val_loss: 1.4338 - 8s/epoch - 77ms/step\n",
      "Epoch 29/100\n",
      "105/105 - 8s - loss: 0.2712 - val_loss: 1.4328 - 8s/epoch - 77ms/step\n",
      "Epoch 30/100\n",
      "105/105 - 8s - loss: 0.2679 - val_loss: 1.4321 - 8s/epoch - 77ms/step\n",
      "Epoch 31/100\n",
      "105/105 - 8s - loss: 0.2678 - val_loss: 1.4286 - 8s/epoch - 77ms/step\n",
      "Epoch 32/100\n",
      "105/105 - 8s - loss: 0.2662 - val_loss: 1.4300 - 8s/epoch - 77ms/step\n",
      "Epoch 33/100\n",
      "105/105 - 8s - loss: 0.2665 - val_loss: 1.4259 - 8s/epoch - 77ms/step\n",
      "Epoch 34/100\n",
      "105/105 - 8s - loss: 0.2627 - val_loss: 1.4312 - 8s/epoch - 77ms/step\n",
      "Epoch 35/100\n",
      "105/105 - 8s - loss: 0.2639 - val_loss: 1.4314 - 8s/epoch - 77ms/step\n",
      "Epoch 36/100\n",
      "105/105 - 8s - loss: 0.2628 - val_loss: 1.4328 - 8s/epoch - 77ms/step\n",
      "Epoch 37/100\n",
      "105/105 - 8s - loss: 0.2632 - val_loss: 1.4343 - 8s/epoch - 77ms/step\n",
      "Epoch 38/100\n",
      "105/105 - 8s - loss: 0.2607 - val_loss: 1.4247 - 8s/epoch - 77ms/step\n",
      "Epoch 39/100\n",
      "105/105 - 8s - loss: 0.2586 - val_loss: 1.4346 - 8s/epoch - 77ms/step\n",
      "Epoch 40/100\n",
      "105/105 - 8s - loss: 0.2585 - val_loss: 1.4246 - 8s/epoch - 77ms/step\n",
      "Epoch 41/100\n",
      "105/105 - 8s - loss: 0.2592 - val_loss: 1.4239 - 8s/epoch - 77ms/step\n",
      "Epoch 42/100\n",
      "105/105 - 8s - loss: 0.2562 - val_loss: 1.4357 - 8s/epoch - 77ms/step\n",
      "Epoch 43/100\n",
      "105/105 - 8s - loss: 0.2584 - val_loss: 1.4217 - 8s/epoch - 77ms/step\n",
      "Epoch 44/100\n",
      "105/105 - 8s - loss: 0.2606 - val_loss: 1.4297 - 8s/epoch - 77ms/step\n",
      "Epoch 45/100\n",
      "105/105 - 8s - loss: 0.2564 - val_loss: 1.4246 - 8s/epoch - 77ms/step\n",
      "Epoch 46/100\n",
      "105/105 - 8s - loss: 0.2565 - val_loss: 1.4219 - 8s/epoch - 77ms/step\n",
      "Epoch 47/100\n",
      "105/105 - 8s - loss: 0.2536 - val_loss: 1.4226 - 8s/epoch - 77ms/step\n",
      "Epoch 48/100\n",
      "105/105 - 8s - loss: 0.2565 - val_loss: 1.4211 - 8s/epoch - 77ms/step\n",
      "Epoch 49/100\n",
      "105/105 - 8s - loss: 0.2536 - val_loss: 1.4200 - 8s/epoch - 77ms/step\n",
      "Epoch 50/100\n",
      "105/105 - 8s - loss: 0.2516 - val_loss: 1.4210 - 8s/epoch - 77ms/step\n",
      "Epoch 51/100\n",
      "105/105 - 8s - loss: 0.2531 - val_loss: 1.4220 - 8s/epoch - 77ms/step\n",
      "Epoch 52/100\n",
      "105/105 - 8s - loss: 0.2539 - val_loss: 1.4217 - 8s/epoch - 77ms/step\n",
      "Epoch 53/100\n",
      "105/105 - 8s - loss: 0.2526 - val_loss: 1.4317 - 8s/epoch - 77ms/step\n",
      "Epoch 54/100\n",
      "105/105 - 8s - loss: 0.2545 - val_loss: 1.4204 - 8s/epoch - 77ms/step\n",
      "Epoch 55/100\n",
      "105/105 - 8s - loss: 0.2533 - val_loss: 1.4304 - 8s/epoch - 77ms/step\n",
      "Epoch 56/100\n",
      "105/105 - 8s - loss: 0.2527 - val_loss: 1.4191 - 8s/epoch - 77ms/step\n",
      "Epoch 57/100\n",
      "105/105 - 8s - loss: 0.2472 - val_loss: 1.4220 - 8s/epoch - 77ms/step\n",
      "Epoch 58/100\n",
      "105/105 - 8s - loss: 0.2475 - val_loss: 1.4169 - 8s/epoch - 77ms/step\n",
      "Epoch 59/100\n",
      "105/105 - 8s - loss: 0.2496 - val_loss: 1.4227 - 8s/epoch - 77ms/step\n",
      "Epoch 60/100\n",
      "105/105 - 8s - loss: 0.2512 - val_loss: 1.4168 - 8s/epoch - 77ms/step\n",
      "Epoch 61/100\n",
      "105/105 - 8s - loss: 0.2462 - val_loss: 1.4127 - 8s/epoch - 77ms/step\n",
      "Epoch 62/100\n",
      "105/105 - 8s - loss: 0.2481 - val_loss: 1.4198 - 8s/epoch - 78ms/step\n",
      "Epoch 63/100\n",
      "105/105 - 8s - loss: 0.2470 - val_loss: 1.4281 - 8s/epoch - 77ms/step\n",
      "Epoch 64/100\n",
      "105/105 - 8s - loss: 0.2463 - val_loss: 1.4221 - 8s/epoch - 79ms/step\n",
      "Epoch 65/100\n",
      "105/105 - 8s - loss: 0.2452 - val_loss: 1.4139 - 8s/epoch - 77ms/step\n",
      "Epoch 66/100\n",
      "105/105 - 8s - loss: 0.2443 - val_loss: 1.4229 - 8s/epoch - 77ms/step\n",
      "Epoch 67/100\n",
      "105/105 - 8s - loss: 0.2546 - val_loss: 1.4168 - 8s/epoch - 78ms/step\n",
      "Epoch 68/100\n",
      "105/105 - 8s - loss: 0.2462 - val_loss: 1.4139 - 8s/epoch - 78ms/step\n",
      "Epoch 69/100\n",
      "105/105 - 8s - loss: 0.2491 - val_loss: 1.4131 - 8s/epoch - 77ms/step\n",
      "Epoch 70/100\n",
      "105/105 - 8s - loss: 0.2437 - val_loss: 1.4076 - 8s/epoch - 78ms/step\n",
      "Epoch 71/100\n",
      "105/105 - 8s - loss: 0.2417 - val_loss: 1.4104 - 8s/epoch - 78ms/step\n",
      "Epoch 72/100\n",
      "105/105 - 8s - loss: 0.2430 - val_loss: 1.4097 - 8s/epoch - 78ms/step\n",
      "Epoch 73/100\n",
      "105/105 - 8s - loss: 0.2415 - val_loss: 1.4132 - 8s/epoch - 79ms/step\n",
      "Epoch 74/100\n",
      "105/105 - 8s - loss: 0.2421 - val_loss: 1.4141 - 8s/epoch - 81ms/step\n",
      "Epoch 75/100\n",
      "105/105 - 8s - loss: 0.2408 - val_loss: 1.4118 - 8s/epoch - 78ms/step\n",
      "Epoch 76/100\n",
      "105/105 - 8s - loss: 0.2469 - val_loss: 1.4121 - 8s/epoch - 78ms/step\n",
      "Epoch 77/100\n",
      "105/105 - 8s - loss: 0.2374 - val_loss: 1.4108 - 8s/epoch - 78ms/step\n",
      "Epoch 78/100\n",
      "105/105 - 8s - loss: 0.2392 - val_loss: 1.4193 - 8s/epoch - 78ms/step\n",
      "Epoch 79/100\n",
      "105/105 - 8s - loss: 0.2424 - val_loss: 1.4117 - 8s/epoch - 78ms/step\n",
      "Epoch 80/100\n",
      "105/105 - 8s - loss: 0.2391 - val_loss: 1.4109 - 8s/epoch - 78ms/step\n",
      "Model: \"sequential\"\n",
      "_________________________________________________________________\n",
      " Layer (type)                Output Shape              Param #   \n",
      "=================================================================\n",
      " masking (Masking)           (None, 24, 11)            0         \n",
      "                                                                 \n",
      " lstm (LSTM)                 (None, 24, 100)           44800     \n",
      "                                                                 \n",
      " dropout (Dropout)           (None, 24, 100)           0         \n",
      "                                                                 \n",
      " lstm_1 (LSTM)               (None, 75)                52800     \n",
      "                                                                 \n",
      " dense (Dense)               (None, 10)                760       \n",
      "                                                                 \n",
      " leaky_re_lu (LeakyReLU)     (None, 10)                0         \n",
      "                                                                 \n",
      " dense_1 (Dense)             (None, 24)                264       \n",
      "                                                                 \n",
      "=================================================================\n",
      "Total params: 98,624\n",
      "Trainable params: 98,624\n",
      "Non-trainable params: 0\n",
      "_________________________________________________________________\n"
     ]
    }
   ],
   "source": [
    "history = model.fit(X_train_scaled, Y_train_scaled, epochs=100, callbacks=[early_stopping], batch_size=128, validation_data=(X_test_scaled, Y_test_scaled),verbose = 2)\n",
    "model.summary()"
   ]
  },
  {
   "cell_type": "code",
   "execution_count": 14,
   "id": "688df683-6555-44a9-a76b-9587f2b45db4",
   "metadata": {
    "tags": []
   },
   "outputs": [
    {
     "data": {
      "image/png": "[encoded data removed]",
      "text/plain": [
       "<Figure size 640x480 with 1 Axes>"
      ]
     },
     "metadata": {},
     "output_type": "display_data"
    }
   ],
   "source": [
    "we.plot_loss(history)"
   ]
  },
  {
   "cell_type": "code",
   "execution_count": 15,
   "id": "be90ec5e-6fe7-4891-b86b-bdf093e3f63a",
   "metadata": {
    "tags": []
   },
   "outputs": [
    {
     "name": "stdout",
     "output_type": "stream",
     "text": [
      "105/105 [==============================] - 4s 11ms/step\n"
     ]
    }
   ],
   "source": [
    "predictions = model.predict(X_test_scaled)"
   ]
  },
  {
   "cell_type": "code",
   "execution_count": 16,
   "id": "2681e14b-b088-4c1f-9b25-bdf7be637156",
   "metadata": {
    "tags": []
   },
   "outputs": [
    {
     "data": {
      "text/plain": [
       "(3344, 24, 11)"
      ]
     },
     "execution_count": 16,
     "metadata": {},
     "output_type": "execute_result"
    }
   ],
   "source": [
    "X_test_scaled.shape"
   ]
  },
  {
   "cell_type": "code",
   "execution_count": 17,
   "id": "5033ca5d-4210-4fb2-a094-38757da9860f",
   "metadata": {
    "tags": []
   },
   "outputs": [
    {
     "data": {
      "text/plain": [
       "(3344, 24)"
      ]
     },
     "execution_count": 17,
     "metadata": {},
     "output_type": "execute_result"
    }
   ],
   "source": [
    "Y_test_scaled.shape"
   ]
  },
  {
   "cell_type": "code",
   "execution_count": 18,
   "id": "2f1ad01d-b94d-4366-9753-2aab1c0f8a4b",
   "metadata": {
    "tags": []
   },
   "outputs": [
    {
     "data": {
      "text/plain": [
       "(3344, 24)"
      ]
     },
     "execution_count": 18,
     "metadata": {},
     "output_type": "execute_result"
    }
   ],
   "source": [
    "predictions.shape"
   ]
  },
  {
   "cell_type": "code",
   "execution_count": null,
   "id": "635a238f-3cdc-45e1-a5f7-6efbbe32a06b",
   "metadata": {},
   "outputs": [],
   "source": [
    "Y"
   ]
  },
  {
   "cell_type": "code",
   "execution_count": 21,
   "id": "0390e31e-1fee-4f6f-8185-2034feb8b0be",
   "metadata": {
    "tags": []
   },
   "outputs": [],
   "source": [
    "predictions_original_scale = we.inverse_min_max_normalize(predictions, Y_test_scaled)"
   ]
  },
  {
   "cell_type": "code",
   "execution_count": 22,
   "id": "c9a6b69e-58f9-42ff-b818-af57c2412dc6",
   "metadata": {
    "tags": []
   },
   "outputs": [],
   "source": [
    "predictions_original_scale = predictions_original_scale.reshape(predictions_original_scale.shape[0], -1)"
   ]
  },
  {
   "cell_type": "code",
   "execution_count": 23,
   "id": "badc02e9-5146-4287-bdd6-536038b5dad5",
   "metadata": {
    "tags": []
   },
   "outputs": [],
   "source": [
    "predictions = predictions.reshape(predictions.shape[0], -1)"
   ]
  },
  {
   "cell_type": "code",
   "execution_count": 32,
   "id": "a3b7532c-2793-458e-aa23-4cdb51905e60",
   "metadata": {
    "tags": []
   },
   "outputs": [
    {
     "data": {
      "text/plain": [
       "<matplotlib.collections.PathCollection at 0x76abce36b910>"
      ]
     },
     "execution_count": 32,
     "metadata": {},
     "output_type": "execute_result"
    },
    {
     "data": {
      "image/png": "[encoded data removed]",
      "text/plain": [
       "<Figure size 640x480 with 1 Axes>"
      ]
     },
     "metadata": {},
     "output_type": "display_data"
    }
   ],
   "source": [
    "plt.scatter(Y_test_scaled, Y_test_scaled - predictions_original_scale)"
   ]
  },
  {
   "cell_type": "code",
   "execution_count": 33,
   "id": "cbf59972-3b9a-4c30-9831-d873f73816ab",
   "metadata": {
    "tags": []
   },
   "outputs": [
    {
     "data": {
      "text/plain": [
       "<matplotlib.collections.PathCollection at 0x76abcdf58fd0>"
      ]
     },
     "execution_count": 33,
     "metadata": {},
     "output_type": "execute_result"
    },
    {
     "data": {
      "image/png": "[encoded data removed]",
      "text/plain": [
       "<Figure size 640x480 with 1 Axes>"
      ]
     },
     "metadata": {},
     "output_type": "display_data"
    }
   ],
   "source": [
    "plt.scatter(Y_test_scaled, predictions_original_scale)"
   ]
  },
  {
   "cell_type": "code",
   "execution_count": 25,
   "id": "50062abb-4dec-4f04-a90b-e4c528d60acf",
   "metadata": {
    "tags": []
   },
   "outputs": [
    {
     "data": {
      "text/plain": [
       "(3344, 24)"
      ]
     },
     "execution_count": 25,
     "metadata": {},
     "output_type": "execute_result"
    }
   ],
   "source": [
    "predictions.shape"
   ]
  },
  {
   "cell_type": "code",
   "execution_count": 26,
   "id": "d9773dcb-08cf-4341-aa3b-ffb830049a31",
   "metadata": {
    "tags": []
   },
   "outputs": [
    {
     "data": {
      "text/plain": [
       "3344"
      ]
     },
     "execution_count": 26,
     "metadata": {},
     "output_type": "execute_result"
    }
   ],
   "source": [
    "len(predictions)"
   ]
  },
  {
   "cell_type": "code",
   "execution_count": 27,
   "id": "6ccc09c6-b360-4ac4-99d5-15301e78cf2d",
   "metadata": {
    "tags": []
   },
   "outputs": [
    {
     "data": {
      "text/plain": [
       "(3344, 24)"
      ]
     },
     "execution_count": 27,
     "metadata": {},
     "output_type": "execute_result"
    }
   ],
   "source": [
    "Y_test_scaled.shape"
   ]
  },
  {
   "cell_type": "code",
   "execution_count": null,
   "id": "f88c2114-65a6-4eb5-b676-78b5f1aa5c22",
   "metadata": {},
   "outputs": [],
   "source": []
  }
 ],
 "metadata": {
  "kernelspec": {
   "display_name": "Python 3 (ipykernel)",
   "language": "python",
   "name": "python3"
  },
  "language_info": {
   "codemirror_mode": {
    "name": "ipython",
    "version": 3
   },
   "file_extension": ".py",
   "mimetype": "text/x-python",
   "name": "python",
   "nbconvert_exporter": "python",
   "pygments_lexer": "ipython3",
   "version": "3.7.6"
  }
 },
 "nbformat": 4,
 "nbformat_minor": 5
}
